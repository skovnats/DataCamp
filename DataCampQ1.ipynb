{
 "cells": [
  {
   "cell_type": "code",
   "execution_count": 2,
   "metadata": {
    "collapsed": false
   },
   "outputs": [],
   "source": [
    "import numpy as np\n",
    "import pandas as pd\n",
    "import math\n",
    "import os\n",
    "import xlrd\n",
    "import matplotlib.pyplot as plt\n",
    "from scipy.stats import linregress as lreg\n",
    "import random\n",
    "pd.set_option('precision', 10)"
   ]
  },
  {
   "cell_type": "code",
   "execution_count": 14,
   "metadata": {
    "collapsed": false
   },
   "outputs": [],
   "source": [
    "def checkmod(i,j,k,N):\n",
    "    return np.float16(np.mod(k+j-i,N)==0)"
   ]
  },
  {
   "cell_type": "code",
   "execution_count": 138,
   "metadata": {
    "collapsed": false
   },
   "outputs": [
    {
     "name": "stdout",
     "output_type": "stream",
     "text": [
      "E[S10mod10]=4.54669548157, STD[S10mod10]=2.50816363436\n"
     ]
    }
   ],
   "source": [
    "# Q1,p.1\n",
    "P0=np.zeros((10,10))\n",
    "P0[0,[4,6]]=0.5\n",
    "P0[1,[6,8]]=0.5\n",
    "P0[2,[7,9]]=0.5\n",
    "P0[3,[4,8]]=0.5\n",
    "P0[4,[0,3,9]]=1/3.\n",
    "P0[6,[0,1,7]]=1/3.\n",
    "P0[7,[2,6]]=0.5\n",
    "P0[8,[1,3]]=0.5\n",
    "P0[9,[2,4]]=0.5\n",
    "\n",
    "T=10 # number of steps\n",
    "N=10 # modulo\n",
    "\n",
    "Pcur=np.zeros((N,10))\n",
    "Pcur[0,0]=1\n",
    "Pnext=np.zeros((N,10))\n",
    "\n",
    "for n in range(1,(T+1)):\n",
    "    for i in range(N):\n",
    "        for j in range(10):\n",
    "            for k in range(N):\n",
    "                for s in range(10):\n",
    "                    Pnext[i,j]+=checkmod(i,j,k,N)*P0[s,j]*Pcur[k,s]\n",
    "    Pcur=Pnext\n",
    "    Pcur=Pcur/Pcur.sum()\n",
    "\n",
    "# values\n",
    "vs=np.arange(N)\n",
    "\n",
    "# Probability\n",
    "p=Pcur.sum(1)\n",
    "\n",
    "# Expectation\n",
    "mn=np.dot(p,vs)\n",
    "\n",
    "# STD\n",
    "std=np.sqrt(np.dot(p,vs**2) - mn**2)\n",
    "\n",
    "print(\"E[S10mod10]={0}, STD[S10mod10]={1}\".format(mn,std))"
   ]
  },
  {
   "cell_type": "code",
   "execution_count": 136,
   "metadata": {
    "collapsed": false
   },
   "outputs": [
    {
     "data": {
      "text/plain": [
       "array([ 1.,  1.,  1.,  1.,  1.,  0.,  1.,  1.,  1.,  1.])"
      ]
     },
     "execution_count": 136,
     "metadata": {},
     "output_type": "execute_result"
    }
   ],
   "source": [
    "P0.sum(1)"
   ]
  },
  {
   "cell_type": "code",
   "execution_count": 107,
   "metadata": {
    "collapsed": false
   },
   "outputs": [
    {
     "data": {
      "text/plain": [
       "array([0, 1, 2, 3, 4, 5, 6, 7, 8, 9])"
      ]
     },
     "execution_count": 107,
     "metadata": {},
     "output_type": "execute_result"
    }
   ],
   "source": [
    "vs"
   ]
  },
  {
   "cell_type": "code",
   "execution_count": null,
   "metadata": {
    "collapsed": true
   },
   "outputs": [],
   "source": []
  }
 ],
 "metadata": {
  "kernelspec": {
   "display_name": "Python 2",
   "language": "python",
   "name": "python2"
  },
  "language_info": {
   "codemirror_mode": {
    "name": "ipython",
    "version": 2
   },
   "file_extension": ".py",
   "mimetype": "text/x-python",
   "name": "python",
   "nbconvert_exporter": "python",
   "pygments_lexer": "ipython2",
   "version": "2.7.10"
  }
 },
 "nbformat": 4,
 "nbformat_minor": 0
}
