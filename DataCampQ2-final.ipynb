{
 "cells": [
  {
   "cell_type": "code",
   "execution_count": 185,
   "metadata": {
    "collapsed": false
   },
   "outputs": [],
   "source": [
    "import numpy as np\n",
    "import pandas as pd\n",
    "import math\n",
    "import os\n",
    "import xlrd\n",
    "import matplotlib.pyplot as plt\n",
    "from scipy.stats import linregress as lreg\n",
    "pd.set_option('precision', 10)"
   ]
  },
  {
   "cell_type": "code",
   "execution_count": 70,
   "metadata": {
    "collapsed": false
   },
   "outputs": [],
   "source": [
    "propsdata=pd.read_csv('Historic_Secured_Property_Tax_Rolls.csv',low_memory=False)"
   ]
  },
  {
   "cell_type": "code",
   "execution_count": 5,
   "metadata": {
    "collapsed": false
   },
   "outputs": [],
   "source": [
    "coldescr = pd.ExcelFile('ASR-0001_DataDictionary_historic-secured-property-rolls.xlsx')"
   ]
  },
  {
   "cell_type": "code",
   "execution_count": 6,
   "metadata": {
    "collapsed": false
   },
   "outputs": [],
   "source": [
    "dfs = {sheet_name: coldescr.parse(sheet_name) for sheet_name in coldescr.sheet_names}"
   ]
  },
  {
   "cell_type": "code",
   "execution_count": 289,
   "metadata": {
    "collapsed": false
   },
   "outputs": [
    {
     "name": "stdout",
     "output_type": "stream",
     "text": [
      "<class 'pandas.core.frame.DataFrame'>\n",
      "Int64Index: 1612110 entries, 206398 to 386172\n",
      "Data columns (total 43 columns):\n",
      "Closed Roll Fiscal Year                       1612109 non-null float64\n",
      "Property Location                             1612110 non-null object\n",
      "Neighborhood Code                             1611431 non-null object\n",
      "Neighborhood Code Definition                  1564368 non-null object\n",
      "Block and Lot Number                          1612110 non-null object\n",
      "Volume Number                                 1612110 non-null int64\n",
      "Property Class Code                           1611252 non-null object\n",
      "Property Class Code Definition                1596776 non-null object\n",
      "Year Property Built                           1483511 non-null float64\n",
      "Number of Bathrooms                           1612110 non-null float64\n",
      "Number of Bedrooms                            1612110 non-null int64\n",
      "Number of Rooms                               1612110 non-null int64\n",
      "Number of Stories                             1612110 non-null int64\n",
      "Number of Units                               1612110 non-null int64\n",
      "Characteristics Change Date                   1404465 non-null object\n",
      "Zoning Code                                   1393875 non-null object\n",
      "Construction Type                             1357497 non-null object\n",
      "Lot Depth                                     1612110 non-null float64\n",
      "Lot Frontage                                  1612110 non-null float64\n",
      "Property Area in Square Feet                  1612110 non-null int64\n",
      "Basement Area                                 1612109 non-null float64\n",
      "Lot Area                                      1612109 non-null float64\n",
      "Lot Code                                      569318 non-null object\n",
      "Prior Sales Date                              0 non-null float64\n",
      "Recordation Date                              1491934 non-null object\n",
      "Document Number                               635747 non-null object\n",
      "Document Number 2                             1612109 non-null float64\n",
      "Tax Rate Area Code                            1607742 non-null float64\n",
      "Percent of Ownership                          1612109 non-null float64\n",
      "Closed Roll Exemption Type Code               740703 non-null object\n",
      "Closed Roll Exemption Type Code Definition    740660 non-null object\n",
      "Closed Roll Status Code                       28589 non-null object\n",
      "Closed Roll Misc Exemption Value              1612109 non-null float64\n",
      "Closed Roll Homeowner Exemption Value         1612109 non-null float64\n",
      "Current Sales Date                            835570 non-null object\n",
      "Closed Roll Assessed Fixtures Value           1612109 non-null float64\n",
      "Closed Roll Assessed Improvement Value        1612109 non-null float64\n",
      "Closed Roll Assessed Land Value               1612109 non-null float64\n",
      "Closed Roll Assessed Personal Prop Value      1612109 non-null float64\n",
      "Zipcode of Parcel                             1584672 non-null float64\n",
      "Supervisor District                           1586142 non-null float64\n",
      "Neighborhoods - Analysis Boundaries           1584816 non-null object\n",
      "Location                                      1591808 non-null object\n",
      "dtypes: float64(19), int64(6), object(18)\n",
      "memory usage: 541.2+ MB\n"
     ]
    }
   ],
   "source": [
    "keys=dfs.keys()\n",
    "propsdata.info()"
   ]
  },
  {
   "cell_type": "code",
   "execution_count": 71,
   "metadata": {
    "collapsed": false,
    "scrolled": true
   },
   "outputs": [
    {
     "data": {
      "text/plain": [
       "array(['Closed Roll Fiscal Year', 'Property Location', 'Neighborhood Code',\n",
       "       'Neighborhood Code Definition', 'Block and Lot Number',\n",
       "       'Volume Number', 'Property Class Code',\n",
       "       'Property Class Code Definition', 'Year Property Built',\n",
       "       'Number of Bathrooms', 'Number of Bedrooms', 'Number of Rooms',\n",
       "       'Number of Stories', 'Number of Units',\n",
       "       'Characteristics Change Date', 'Zoning Code', 'Construction Type',\n",
       "       'Lot Depth', 'Lot Frontage', 'Property Area in Square Feet',\n",
       "       'Basement Area', 'Lot Area', 'Lot Code', 'Prior Sales Date',\n",
       "       'Recordation Date', 'Document Number', 'Document Number 2',\n",
       "       'Tax Rate Area Code', 'Percent of Ownership',\n",
       "       'Closed Roll Exemption Type Code',\n",
       "       'Closed Roll Exemption Type Code Definition',\n",
       "       'Closed Roll Status Code', 'Closed Roll Misc Exemption Value',\n",
       "       'Closed Roll Homeowner Exemption Value', 'Current Sales Date',\n",
       "       'Closed Roll Assessed Fixtures Value',\n",
       "       'Closed Roll Assessed Improvement Value',\n",
       "       'Closed Roll Assessed Land Value',\n",
       "       'Closed Roll Assessed Personal Prop Value', 'Zipcode of Parcel',\n",
       "       'Supervisor District', 'Neighborhoods - Analysis Boundaries',\n",
       "       'Location'], dtype=object)"
      ]
     },
     "execution_count": 71,
     "metadata": {},
     "output_type": "execute_result"
    }
   ],
   "source": [
    "propsdata.columns.values"
   ]
  },
  {
   "cell_type": "code",
   "execution_count": 74,
   "metadata": {
    "collapsed": false
   },
   "outputs": [],
   "source": [
    "propsdata.sort_values(by=['Block and Lot Number','Closed Roll Fiscal Year'],inplace=True)"
   ]
  },
  {
   "cell_type": "code",
   "execution_count": 75,
   "metadata": {
    "collapsed": false
   },
   "outputs": [
    {
     "data": {
      "text/plain": [
       "0.47097598637581212"
      ]
     },
     "execution_count": 75,
     "metadata": {},
     "output_type": "execute_result"
    }
   ],
   "source": [
    "# Q2,p.1\n",
    "classcode=propsdata[\"Property Class Code\"]\n",
    "classcode.dropna(inplace=True)\n",
    "classcode.value_counts(normalize=True)[0]\n",
    "# propsdata[\"Property Class Code\"][propsdata[\"Property Class Code\"].notnull()].value_counts(normalize=True)[0]"
   ]
  },
  {
   "cell_type": "code",
   "execution_count": 79,
   "metadata": {
    "collapsed": false
   },
   "outputs": [
    {
     "data": {
      "text/plain": [
       "209244.5"
      ]
     },
     "execution_count": 79,
     "metadata": {},
     "output_type": "execute_result"
    }
   ],
   "source": [
    "# Q2,p.2\n",
    "# propsdata.drop_duplicates(subset=[\"Block and Lot Number\"],keep='last')[\"Closed Roll Assessed Improvement Value\"]\\\n",
    "# [propsdata.drop_duplicates(subset=[\"Block and Lot Number\"],keep='last')[\"Closed Roll Assessed Improvement Value\"]!=0].median()\n",
    "imprvlast=propsdata.drop_duplicates(subset=[\"Block and Lot Number\"],keep='last')[\"Closed Roll Assessed Improvement Value\"]\n",
    "imprvlast=imprvlast.dropna()\n",
    "imprvlast=imprvlast[imprvlast!=0]\n",
    "imprvlast.median()"
   ]
  },
  {
   "cell_type": "code",
   "execution_count": 502,
   "metadata": {
    "collapsed": false
   },
   "outputs": [
    {
     "data": {
      "text/plain": [
       "5085780.383029256"
      ]
     },
     "execution_count": 502,
     "metadata": {},
     "output_type": "execute_result"
    }
   ],
   "source": [
    "# Q2,p.3\n",
    "# propsdata.drop_duplicates(subset=[\"Block and Lot Number\"],keep='last')[[\"Closed Roll Assessed Improvement Value\",\"Neighborhood Code\"]]\\\n",
    "# [propsdata.drop_duplicates(subset=[\"Block and Lot Number\"],keep='last')[\"Closed Roll Assessed Improvement Value\"]!=0]\n",
    "imprvlastnbr=propsdata.drop_duplicates(subset=[\"Block and Lot Number\"],keep='last')\\\n",
    "[[\"Closed Roll Assessed Improvement Value\",\"Neighborhood Code\"]]\n",
    "imprvlastnbr=imprvlastnbr.dropna()\n",
    "imprvlastnbr=imprvlastnbr[imprvlastnbr[\"Closed Roll Assessed Improvement Value\"]!=0]\n",
    "grnbr=imprvlastnbr.groupby(by='Neighborhood Code') #group by nbr\n",
    "assimpvalgrpmean=grnbr.mean()['Closed Roll Assessed Improvement Value']\n",
    "assimpvalgrpmean.max()-assimpvalgrpmean.min()"
   ]
  },
  {
   "cell_type": "code",
   "execution_count": 237,
   "metadata": {
    "collapsed": false
   },
   "outputs": [
    {
     "name": "stdout",
     "output_type": "stream",
     "text": [
      "pckg: 0.0000449280 mine: 0.0000449280 \n"
     ]
    }
   ],
   "source": [
    "# Q2,p.4\n",
    "ylv=propsdata[['Closed Roll Fiscal Year','Closed Roll Assessed Land Value']]\n",
    "ylv=ylv.dropna()\n",
    "ylv=ylv[ylv['Closed Roll Assessed Land Value']!=0]\n",
    "y=ylv['Closed Roll Fiscal Year']\n",
    "x=ylv['Closed Roll Assessed Land Value']\n",
    "y=np.array(y)\n",
    "x=np.array(x)\n",
    "ylg=np.log(y)\n",
    "xlg=np.log(x)\n",
    "ylgc=ylg-ylg.mean()\n",
    "xlgc=xlg-xlg.mean()\n",
    "r=lreg(xlgc.T,ylgc)\n",
    "# r[0]\n",
    "# print('{:10.10f}'.format(r[0]))\n",
    "# double check\n",
    "r2=np.dot(xlgc,ylgc)/np.dot(xlgc,xlgc)\n",
    "print('pckg: {:10.10f} mine: {:10.10f} '.format(r[0],r2))"
   ]
  },
  {
   "cell_type": "code",
   "execution_count": 585,
   "metadata": {
    "collapsed": false
   },
   "outputs": [],
   "source": [
    "# ln,lt to km\n",
    "def measure(lat1, lon1, lat2, lon2):\n",
    "    R = 6378.137; # Radius of earth in KM\n",
    "    dLat = (lat2 - lat1) * np.pi / 180.0\n",
    "    dLon = (lon2 - lon1) * np.pi / 180.0\n",
    "    a = np.sin(dLat/2.0) * np.sin(dLat/2.0) +\\\n",
    "    np.cos(lat1 * np.pi / 180.0) * np.cos(lat2 * np.pi / 180.0) *\\\n",
    "    np.sin(dLon/2) * np.sin(dLon/2)\n",
    "    c = 2 * np.arctan2(np.sqrt(a), np.sqrt(1-a))\n",
    "    d = R * c\n",
    "    return d  #km"
   ]
  },
  {
   "cell_type": "code",
   "execution_count": 604,
   "metadata": {
    "collapsed": false
   },
   "outputs": [
    {
     "data": {
      "text/plain": [
       "2.0589197506122123"
      ]
     },
     "execution_count": 604,
     "metadata": {},
     "output_type": "execute_result"
    }
   ],
   "source": [
    "# Q2,p.5\n",
    "# std measured in each nbr seperately\n",
    "# consider only once each lot, take i.e. the last assessment\n",
    "locsnbr=propsdata.drop_duplicates(subset=[\"Block and Lot Number\"],keep='last')\n",
    "locsnbr=locsnbr[[\"Neighborhood Code\",\"Location\"]]\n",
    "locsnbr=locsnbr.dropna()\n",
    "locsnbr[[\"ln\",\"lt\"]]=locsnbr['Location'].str.replace('(','').str.replace(')','').str.split(',',expand=True)\n",
    "locsnbr.drop('Location', axis=1, inplace=True)\n",
    "locsnbr[[\"ln\",\"lt\"]]=locsnbr[[\"ln\",\"lt\"]].apply(lambda x: np.float128(x))\n",
    "\n",
    "# group by nbr\n",
    "grnbr=locsnbr.groupby(by='Neighborhood Code')\n",
    "\n",
    "# stds=grnbr.transform(lambda x: x.std())\n",
    "mn1=grnbr.mean()[\"lt\"]\n",
    "mn2=grnbr.mean()[\"ln\"]\n",
    "\n",
    "ax1=measure(mn1, mn2, mn1+grnbr.std()[\"lt\"], mn2)\n",
    "ax2=measure(mn1, mn2, mn1, mn2+grnbr.std()[\"ln\"])\n",
    "\n",
    "# areas=(np.pi*ax1*ax2)*np.float128(grnbr.count()[\"ln\"])*6378.137**2\n",
    "areas=np.pi*ax1*ax2\n",
    "areas.max()"
   ]
  },
  {
   "cell_type": "code",
   "execution_count": 768,
   "metadata": {
    "collapsed": false
   },
   "outputs": [
    {
     "data": {
      "text/plain": [
       "0.41975159872122658"
      ]
     },
     "execution_count": 768,
     "metadata": {},
     "output_type": "execute_result"
    }
   ],
   "source": [
    "# Q2,p.6\n",
    "untyb=propsdata.drop_duplicates(subset=[\"Block and Lot Number\"],keep='first')[[\"Year Property Built\",\"Number of Units\"]]\n",
    "untyb=untyb.dropna()\n",
    "untyb=untyb[untyb[\"Number of Units\"]!=0]\n",
    "# removing outliers\n",
    "y=untyb[\"Year Property Built\"]\n",
    "st=y.describe()\n",
    "out1=y.median()-1.5*(st[6]-st[4])\n",
    "out2=2016 #y.median()+1.5*(st[6]-st[4])\n",
    "untyb=untyb[(y>out1)&(y<out2)]\n",
    "# \n",
    "f = lambda x: 1900 if x<1950 else 1950\n",
    "untyb[\"Year Property Built\"]=untyb[\"Year Property Built\"].apply(f)\n",
    "# \n",
    "grnbr=untyb.groupby(by='Year Property Built')\n",
    "# \n",
    "grnbr.mean()[\"Number of Units\"][1950]-grnbr.mean()[\"Number of Units\"][1900]\n",
    "# bef=untyb[untyb[\"Year Property Built\"]<1950]\n",
    "# af=untyb[untyb[\"Year Property Built\"]>=1950]"
   ]
  },
  {
   "cell_type": "code",
   "execution_count": 780,
   "metadata": {
    "collapsed": false
   },
   "outputs": [
    {
     "data": {
      "text/plain": [
       "2.4479166666666665"
      ]
     },
     "execution_count": 780,
     "metadata": {},
     "output_type": "execute_result"
    }
   ],
   "source": [
    "#Q2,p.7\n",
    "# Assumption: 1) I consider only the last report 2) I drop the outliers 3) I ignore 0 bedrroms and 0 units 4) remove NaN\n",
    "# 1\n",
    "beduntzip=propsdata.drop_duplicates(subset=[\"Block and Lot Number\"],keep='last')\\\n",
    "[['Zipcode of Parcel','Number of Bedrooms','Number of Units','Year Property Built']]\n",
    "# 4\n",
    "beduntzip=beduntzip.dropna()\n",
    "# 2\n",
    "# Removing outliers\n",
    "y=beduntzip[\"Year Property Built\"]\n",
    "st=y.describe()\n",
    "out1=y.median()-1.5*(st[6]-st[4])\n",
    "out2=2016 #y.median()+1.5*(st[6]-st[4])\n",
    "beduntzip=beduntzip[(y>out1)&(y<out2)]\n",
    "beduntzip.drop('Year Property Built', axis=1, inplace=True)\n",
    "# 3\n",
    "beduntzip=beduntzip[beduntzip[['Number of Bedrooms','Number of Units']].sum(1)!=0]\n",
    "# grouping\n",
    "grnbr=beduntzip.groupby(by='Zipcode of Parcel')\n",
    "(grnbr.mean()[\"Number of Bedrooms\"]/grnbr.mean()[\"Number of Units\"]).max()"
   ]
  },
  {
   "cell_type": "code",
   "execution_count": 795,
   "metadata": {
    "collapsed": false
   },
   "outputs": [
    {
     "data": {
      "text/plain": [
       "12.846970209624423"
      ]
     },
     "execution_count": 795,
     "metadata": {},
     "output_type": "execute_result"
    }
   ],
   "source": [
    "# Q2,p.8\n",
    "# Assumption: 1) I consider only the last report 2) I drop the outliers 4) remove NaN\n",
    "# 1\n",
    "zipproparealotarea=propsdata.drop_duplicates(subset=[\"Block and Lot Number\"],keep='last')\\\n",
    "[['Zipcode of Parcel','Property Area in Square Feet','Lot Area','Year Property Built']]\n",
    "# 4\n",
    "zipproparealotarea=zipproparealotarea.dropna()\n",
    "# 2\n",
    "# Removing outliers\n",
    "y=zipproparealotarea[\"Year Property Built\"]\n",
    "st=y.describe()\n",
    "out1=y.median()-1.5*(st[6]-st[4])\n",
    "out2=2016 #y.median()+1.5*(st[6]-st[4])\n",
    "zipproparealotarea=zipproparealotarea[(y>out1)&(y<out2)]\n",
    "zipproparealotarea.drop('Year Property Built', axis=1, inplace=True)\n",
    "# \n",
    "# grouping\n",
    "grnbr=zipproparealotarea.groupby(by='Zipcode of Parcel')\n",
    "(grnbr.sum()['Property Area in Square Feet']/grnbr.sum()['Lot Area']).max()"
   ]
  },
  {
   "cell_type": "code",
   "execution_count": null,
   "metadata": {
    "collapsed": true
   },
   "outputs": [],
   "source": []
  }
 ],
 "metadata": {
  "kernelspec": {
   "display_name": "Python 2",
   "language": "python",
   "name": "python2"
  },
  "language_info": {
   "codemirror_mode": {
    "name": "ipython",
    "version": 2
   },
   "file_extension": ".py",
   "mimetype": "text/x-python",
   "name": "python",
   "nbconvert_exporter": "python",
   "pygments_lexer": "ipython2",
   "version": "2.7.10"
  }
 },
 "nbformat": 4,
 "nbformat_minor": 0
}
