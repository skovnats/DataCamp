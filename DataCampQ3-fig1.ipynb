{
 "cells": [
  {
   "cell_type": "code",
   "execution_count": 1,
   "metadata": {
    "collapsed": true
   },
   "outputs": [],
   "source": [
    "import os\n",
    "import numpy as np\n",
    "import pandas as pd\n",
    "import math\n",
    "import xlrd\n",
    "import random\n",
    "import matplotlib.pyplot as plt\n",
    "from scipy.stats import linregress as lreg\n",
    "pd.set_option('precision', 10)\n",
    "import colorsys"
   ]
  },
  {
   "cell_type": "code",
   "execution_count": 2,
   "metadata": {
    "collapsed": false
   },
   "outputs": [],
   "source": [
    "# Test 1: load 100k dataset\n",
    "# Users\n",
    "user_columns=['user_id', 'age', 'gender', 'occupation', 'zipcode'] # | - separator\n",
    "users=pd.read_csv('ml-100k/u.user',sep='|',names=user_columns,encoding='latin-1')\n",
    "\n",
    "# Movies ratings\n",
    "rating_columns = ['user_id', 'movie_id', 'rating', 'unix_timestamp']\n",
    "ratings = pd.read_csv('ml-100k/u.data', sep='\\t', names=rating_columns,\n",
    "                      encoding='latin-1')\n",
    "\n",
    "# Movie Genres\n",
    "genres=pd.read_csv('ml-100k/u.genre',sep='|',names=['genre'],usecols=[0])\n",
    "\n",
    "# Movie information\n",
    "movie_columns=['movie_id', 'mtitle', 'release date', 'video release date', \\\n",
    "              'IMDb URL'] + genres['genre'].tolist()\n",
    "movies=pd.read_csv('ml-100k/u.item',sep='|',names=movie_columns,encoding='latin-1')\n",
    "\n",
    "# Merge DataFrames\n",
    "users=pd.merge(users,ratings)\n",
    "movierated=pd.merge(users,movies)\n",
    "del movies, users, ratings "
   ]
  },
  {
   "cell_type": "code",
   "execution_count": 4,
   "metadata": {
    "collapsed": false
   },
   "outputs": [],
   "source": [
    "# plot the frequences of the ratings\n",
    "n=movierated.rating.max()\n",
    "colors=np.array(['#E50029', '#E94E04', '#EEC708', '#A5F30D', '#62F610']) # 1, 2, 3, 4, and 5 stars respectively\n",
    "labels=[i+1 for i in range(n)]\n",
    "indc=np.arange(n)\n",
    "\n",
    "sizefig=plt.figure(figsize=(12,8))\n",
    "abs_freq=movierated.rating.value_counts(ascending=True)\n",
    "rel_freq=np.array(abs_freq)/float(abs_freq.sum())\n",
    "\n",
    "rects=plt.bar(indc,rel_freq,width=1,color=colors,alpha=0.7)\n",
    "for (idx,rect) in enumerate(rects):\n",
    "    plt.gca().text(rect.get_x()+rect.get_width()/2.5,1.05*rect.get_height(),'%d'%int(abs_freq[idx+1]))\n",
    "    \n",
    "plt.xticks(indc+0.5,labels)\n",
    "plt.xlabel('Reviews')\n",
    "plt.ylabel('Relative Frequency')\n",
    "plt.ylim([0,1])\n",
    "plt.title('Reviews Distribution for {0} Movies'.format(len(movierated)))\n",
    "plt.savefig('image1.png', bbox_inches='tight')\n",
    "plt.show()"
   ]
  },
  {
   "cell_type": "code",
   "execution_count": null,
   "metadata": {
    "collapsed": true
   },
   "outputs": [],
   "source": []
  }
 ],
 "metadata": {
  "kernelspec": {
   "display_name": "Python 2",
   "language": "python",
   "name": "python2"
  },
  "language_info": {
   "codemirror_mode": {
    "name": "ipython",
    "version": 2
   },
   "file_extension": ".py",
   "mimetype": "text/x-python",
   "name": "python",
   "nbconvert_exporter": "python",
   "pygments_lexer": "ipython2",
   "version": "2.7.10"
  }
 },
 "nbformat": 4,
 "nbformat_minor": 0
}
