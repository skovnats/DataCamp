{
 "cells": [
  {
   "cell_type": "code",
   "execution_count": 1,
   "metadata": {
    "collapsed": true
   },
   "outputs": [],
   "source": [
    "import os\n",
    "import numpy as np\n",
    "import pandas as pd\n",
    "import math\n",
    "import xlrd\n",
    "import random\n",
    "import matplotlib.pyplot as plt\n",
    "from scipy.stats import linregress as lreg\n",
    "pd.set_option('precision', 10)\n",
    "import colorsys"
   ]
  },
  {
   "cell_type": "code",
   "execution_count": 2,
   "metadata": {
    "collapsed": false
   },
   "outputs": [],
   "source": [
    "# Test 1: load 100k dataset\n",
    "# Users\n",
    "user_columns=['user_id', 'age', 'gender', 'occupation', 'zipcode'] # | - separator\n",
    "users=pd.read_csv('ml-100k/u.user',sep='|',names=user_columns,encoding='latin-1')\n",
    "\n",
    "# Movies ratings\n",
    "rating_columns = ['user_id', 'movie_id', 'rating', 'unix_timestamp']\n",
    "ratings = pd.read_csv('ml-100k/u.data', sep='\\t', names=rating_columns,\n",
    "                      encoding='latin-1')\n",
    "\n",
    "# Movie Genres\n",
    "genres=pd.read_csv('ml-100k/u.genre',sep='|',names=['genre'],usecols=[0])\n",
    "\n",
    "# Movie information\n",
    "movie_columns=['movie_id', 'mtitle', 'release date', 'video release date', \\\n",
    "              'IMDb URL'] + genres['genre'].tolist()\n",
    "movies=pd.read_csv('ml-100k/u.item',sep='|',names=movie_columns,encoding='latin-1')\n",
    "\n",
    "# Merge DataFrames\n",
    "users=pd.merge(users,ratings)\n",
    "movierated=pd.merge(users,movies)\n",
    "del movies, users, ratings "
   ]
  },
  {
   "cell_type": "code",
   "execution_count": 104,
   "metadata": {
    "collapsed": false
   },
   "outputs": [],
   "source": [
    "# Test 2: load 20M data\n",
    "# links\n",
    "links=pd.read_csv('ml-20m/links.csv')\n",
    "\n",
    "# tags\n",
    "tags=pd.read_csv('ml-20m/tags.csv')\n",
    "\n",
    "# ratings.csv\n",
    "ratings=pd.read_csv('ml-20m/ratings.csv')\n",
    "\n",
    "# movies\n",
    "movies = pd.read_csv('ml-20m/movies.csv',encoding='latin-1',usecols=[0,1])\n",
    "moviesg = pd.read_csv('ml-20m/movies.csv',encoding='latin-1',tupleize_cols=True,usecols=[2])\n",
    "temp=movies['genres'].str.split(\"|\",expand=False)\n",
    "glist = [st for row in temp for st in row]"
   ]
  },
  {
   "cell_type": "code",
   "execution_count": 104,
   "metadata": {
    "collapsed": false
   },
   "outputs": [],
   "source": [
    "# plot the frequences of the ratings\n",
    "n=movierated.rating.max()\n",
    "colors=np.array(['#E50029', '#E94E04', '#EEC708', '#A5F30D', '#62F610']) # 1, 2, 3, 4, and 5 stars respectively\n",
    "labels=[i+1 for i in range(n)]\n",
    "indc=np.arange(n)\n",
    "\n",
    "sizefig=plt.figure(figsize=(12,8))\n",
    "abs_freq=movierated.rating.value_counts(ascending=True)\n",
    "rel_freq=np.array(abs_freq)/float(abs_freq.sum())\n",
    "\n",
    "rects=plt.bar(indc,rel_freq,width=1,color=colors,alpha=0.7)\n",
    "for (idx,rect) in enumerate(rects):\n",
    "    plt.gca().text(rect.get_x()+rect.get_width()/2.5,1.05*rect.get_height(),'%d'%int(abs_freq[idx+1]))\n",
    "    \n",
    "plt.xticks(indc+0.5,labels)\n",
    "plt.xlabel('Reviews')\n",
    "plt.ylabel('Relative Frequency')\n",
    "plt.ylim([0,1])\n",
    "plt.title('Reviews Distribution for {0} Movies'.format(len(movierated)))\n",
    "plt.savefig('image1.png', bbox_inches='tight')\n",
    "# plt.show()"
   ]
  },
  {
   "cell_type": "code",
   "execution_count": 106,
   "metadata": {
    "collapsed": false
   },
   "outputs": [],
   "source": [
    "# distribution of genres\n",
    "# r=5 # rating\n",
    "for r in range(1,6):\n",
    "    mv=movierated[movierated['rating']==r]\n",
    "    ratingg=mv.ix[:,12:]\n",
    "    st=ratingg.describe()\n",
    "    wt=np.array(st.iloc[1])\n",
    "    lst=np.array(ratingg.columns.values)\n",
    "    lst=[str(t) for t in lst]\n",
    "    \n",
    "    n=len(lst)\n",
    "    HSV_tuples = [(x*1.0/n, 0.5, 0.5) for x in range(n)]\n",
    "    RGB_tuples = map(lambda x: colorsys.hsv_to_rgb(*x), HSV_tuples)\n",
    "\n",
    "    colors=RGB_tuples\n",
    "    # labels=[i+1 for i in range(n)]\n",
    "    labels=lst\n",
    "    indc=np.arange(n)\n",
    "    \n",
    "    sizefig=plt.figure(figsize=(12,8))\n",
    "    # abs_freq=movierated.rating.value_counts(ascending=True)\n",
    "    # rel_freq=np.array(abs_freq)/float(abs_freq.sum())\n",
    "    # abs_freq=wt\n",
    "    rel_freq=wt\n",
    "    \n",
    "    rects=plt.bar(indc,rel_freq,width=1,color=colors,alpha=0.7)\n",
    "    # for (idx,rect) in enumerate(rects):\n",
    "    #     plt.gca().text(rect.get_x()+rect.get_width()/2.,1.05*rect.get_height(),'%d'%int(abs_freq[idx+1]))\n",
    "    \n",
    "    plt.xticks(indc+0.5,lst,rotation='vertical')\n",
    "    plt.xlabel('Genre of movies')\n",
    "    plt.ylabel('Relative Frequency of movies with rating {0}'.format(r))\n",
    "    plt.ylim([0,1])\n",
    "    plt.title('Genre Distribution for {0} Movies with rating {1}'.format(len(movierated),r))\n",
    "    plt.savefig('image2_{:d}.png'.format(r), bbox_inches='tight')\n",
    "#     plt.show()\n",
    "    # png(paste('image1.png',sep=''), width=960, height=960)\n"
   ]
  },
  {
   "cell_type": "code",
   "execution_count": 84,
   "metadata": {
    "collapsed": false
   },
   "outputs": [
    {
     "data": {
      "text/plain": [
       "1994"
      ]
     },
     "execution_count": 84,
     "metadata": {},
     "output_type": "execute_result"
    }
   ],
   "source": [
    "# Scraping data; example\n",
    "from lxml import html\n",
    "import requests\n",
    "from imdb import IMDb\n",
    "ia = IMDb()\n",
    "\n",
    "url1=movierated[\"mtitle\"][0]\n",
    "movie = ia.search_movie(url1)\n",
    "movie[0]['year']"
   ]
  },
  {
   "cell_type": "code",
   "execution_count": null,
   "metadata": {
    "collapsed": true
   },
   "outputs": [],
   "source": []
  }
 ],
 "metadata": {
  "kernelspec": {
   "display_name": "Python 2",
   "language": "python",
   "name": "python2"
  },
  "language_info": {
   "codemirror_mode": {
    "name": "ipython",
    "version": 2
   },
   "file_extension": ".py",
   "mimetype": "text/x-python",
   "name": "python",
   "nbconvert_exporter": "python",
   "pygments_lexer": "ipython2",
   "version": "2.7.10"
  }
 },
 "nbformat": 4,
 "nbformat_minor": 0
}
